{
 "cells": [
  {
   "cell_type": "code",
   "execution_count": 121,
   "metadata": {},
   "outputs": [
    {
     "name": "stdout",
     "output_type": "stream",
     "text": [
      "(90, 22)\n"
     ]
    },
    {
     "data": {
      "text/plain": [
       "['Designation',\n",
       " 'Age',\n",
       " 'Gender',\n",
       " 'Average Daily Working Hour',\n",
       " 'Decision Contribution',\n",
       " 'Spontaneous Participation',\n",
       " 'Task Satisfaction',\n",
       " 'Interaction Willingness',\n",
       " 'External Interaction',\n",
       " 'Informal Interaction',\n",
       " 'Personal Information Sharing',\n",
       " 'Effect On Personal Life',\n",
       " 'Appreciation From Teammates',\n",
       " 'Deadline Crossing Frequency',\n",
       " 'Overtime Frequency',\n",
       " 'Office Time Flexibility',\n",
       " 'Cheerfulness',\n",
       " 'Recreational Facilities',\n",
       " 'Hobby Time',\n",
       " 'Outdoor Activities Frequency',\n",
       " 'Family Time']"
      ]
     },
     "execution_count": 121,
     "metadata": {},
     "output_type": "execute_result"
    }
   ],
   "source": [
    "import pandas as pd\n",
    "dataset = pd.read_excel(\"GQMCleanedData.xlsx\")\n",
    "print(dataset.shape)\n",
    "dataset.drop(columns=['Unnamed: 0'],inplace=True)\n",
    "list(dataset.columns.values)"
   ]
  },
  {
   "cell_type": "code",
   "execution_count": 122,
   "metadata": {},
   "outputs": [
    {
     "data": {
      "text/plain": [
       "Intern                                           15\n",
       "Software Engineer                                13\n",
       "Student                                          11\n",
       "Associate Software Engineer                       6\n",
       "Junior Software Engineer                          4\n",
       "intern                                            4\n",
       "Senior Software Engineer                          3\n",
       "Software engineer                                 3\n",
       "student                                           2\n",
       "Lecturer                                          2\n",
       "Intern                                            2\n",
       "Junior software engineer                          1\n",
       "Software Engineer I                               1\n",
       "Software engineer                                 1\n",
       "Studemt                                           1\n",
       "Full Stack Engineer (Senior)                      1\n",
       "Junior full stack software developer              1\n",
       "Senior Software Engineer                          1\n",
       "Currently Unemployed                              1\n",
       "Assistant Engineer                                1\n",
       "Full Stack Developer                              1\n",
       "Associate Game Developer                          1\n",
       "Data Analyst                                      1\n",
       "Software Engineering                              1\n",
       "Tech Lead                                         1\n",
       "student                                           1\n",
       "Unemployed                                        1\n",
       "Jr. Software Engineer                             1\n",
       "Jr software engineer                              1\n",
       "Head of Engineering                               1\n",
       "Junior Software Engineer                          1\n",
       "Associate Software Quality Assurance Engineer     1\n",
       "Software developer                                1\n",
       "Admin executive                                   1\n",
       "Student                                           1\n",
       "Trainee Assistant Officer                         1\n",
       "Name: Designation, dtype: int64"
      ]
     },
     "execution_count": 122,
     "metadata": {},
     "output_type": "execute_result"
    }
   ],
   "source": [
    "dataset['Designation'].value_counts()"
   ]
  },
  {
   "cell_type": "code",
   "execution_count": 139,
   "metadata": {},
   "outputs": [
    {
     "data": {
      "text/plain": [
       "Intern                      40\n",
       "Software Engineer           21\n",
       "Junior Software Engineer    18\n",
       "Senior Software Engineer     5\n",
       "Lecturer                     2\n",
       "Tech Lead                    1\n",
       "Admin executive              1\n",
       "Data Analyst                 1\n",
       "Head of Engineering          1\n",
       "Name: Designation, dtype: int64"
      ]
     },
     "execution_count": 139,
     "metadata": {},
     "output_type": "execute_result"
    }
   ],
   "source": [
    "dataset['Designation']=dataset['Designation'].replace(\"intern\",\"Intern\")\n",
    "dataset['Designation']=dataset['Designation'].replace(\"Junior full stack software developer\",\"Junior Software Engineer\")\n",
    "dataset['Designation']=dataset['Designation'].replace(\"Trainee Assistant Officer\",\"Intern\")\n",
    "dataset['Designation']=dataset['Designation'].replace(\"Software developer\",\"Software Engineer\")\n",
    "dataset['Designation']=dataset['Designation'].replace(\"Associate Software Quality Assurance Engineer\",\"Associate Software Engineer\")\n",
    "dataset['Designation']=dataset['Designation'].replace(\"Jr software engineer\",\"Junior Software Engineer\")\n",
    "dataset['Designation']=dataset['Designation'].replace(\"Jr software engineer \",\"Junior Software Engineer\")\n",
    "dataset['Designation']=dataset['Designation'].replace(\"Jr. Software Engineer\",\"Junior Software Engineer\")\n",
    "dataset['Designation']=dataset['Designation'].replace(\"Software Engineer I\",\"Software Engineer\")\n",
    "dataset['Designation']=dataset['Designation'].replace(\"student\",\"Intern\")\n",
    "dataset['Designation']=dataset['Designation'].replace(\"Full Stack Developer\",\"Software Engineer\")\n",
    "dataset['Designation']=dataset['Designation'].replace(\"Junior full stack software developer\",\"Junior Software Engineer\")\n",
    "dataset['Designation']=dataset['Designation'].replace(\"Full Stack Engineer (Senior)\",\"Senior Software Engineer\")\n",
    "dataset['Designation']=dataset['Designation'].replace(\"Student\",\"Intern\")\n",
    "dataset['Designation']=dataset['Designation'].replace(\"Studemt\",\"Intern\")\n",
    "dataset['Designation']=dataset['Designation'].replace(\"Software engineer\",\"Software Engineer\")\n",
    "dataset['Designation']=dataset['Designation'].replace(\"Software engineer \",\"Software Engineer\")\n",
    "dataset['Designation']=dataset['Designation'].replace(\"Junior software engineer\",\"Junior Software Engineer\")\n",
    "dataset['Designation']=dataset['Designation'].replace(\"Software Engineering \",\"Software Engineer\")\n",
    "dataset['Designation']=dataset['Designation'].replace(\"Software engineer\",\"Software Engineer\")\n",
    "dataset['Designation']=dataset['Designation'].replace(\"Student \",\"Intern\")\n",
    "dataset['Designation']=dataset['Designation'].replace(\"student \",\"Intern\")\n",
    "dataset['Designation']=dataset['Designation'].replace(\"Unemployed \",\"Intern\")\n",
    "dataset['Designation']=dataset['Designation'].replace(\"Intern \",\"Intern\")\n",
    "dataset['Designation']=dataset['Designation'].replace(\"Currently Unemployed\",\"Intern\")\n",
    "dataset['Designation']=dataset['Designation'].replace(\"Senior Software Engineer \",\"Senior Software Engineer\")\n",
    "dataset['Designation']=dataset['Designation'].replace(\"Associate Game Developer\",\"Junior Software Engineer\")\n",
    "dataset['Designation']=dataset['Designation'].replace(\"Junior Software Engineer \",\"Junior Software Engineer\")\n",
    "dataset['Designation']=dataset['Designation'].replace(\"Associate Software Engineer\",\"Junior Software Engineer\")\n",
    "dataset['Designation']=dataset['Designation'].replace(\"Assistant Engineer \",\"Junior Software Engineer\")\n",
    "dataset['Designation']=dataset['Designation'].replace(\"Head of Engineering\",\"Tech Lead\")\n",
    "\n",
    "dataset['Designation'].value_counts()"
   ]
  },
  {
   "cell_type": "code",
   "execution_count": 78,
   "metadata": {},
   "outputs": [
    {
     "data": {
      "text/plain": [
       "24     25\n",
       "23     25\n",
       "22     11\n",
       "26      7\n",
       "25      5\n",
       "28      4\n",
       "29      2\n",
       "27      2\n",
       "21      2\n",
       "31      1\n",
       "30      1\n",
       "24+     1\n",
       "43      1\n",
       "33      1\n",
       "32      1\n",
       "Name: Age , dtype: int64"
      ]
     },
     "execution_count": 78,
     "metadata": {},
     "output_type": "execute_result"
    }
   ],
   "source": [
    "dataset['Age '].value_counts()"
   ]
  },
  {
   "cell_type": "code",
   "execution_count": 79,
   "metadata": {},
   "outputs": [
    {
     "data": {
      "text/plain": [
       "Male      72\n",
       "Female    18\n",
       "Name: Gender, dtype: int64"
      ]
     },
     "execution_count": 79,
     "metadata": {},
     "output_type": "execute_result"
    }
   ],
   "source": [
    "dataset['Gender'].value_counts()"
   ]
  },
  {
   "cell_type": "code",
   "execution_count": 80,
   "metadata": {},
   "outputs": [
    {
     "data": {
      "text/plain": [
       "0     0\n",
       "1     1\n",
       "2     0\n",
       "3     1\n",
       "4     0\n",
       "     ..\n",
       "85    0\n",
       "86    0\n",
       "87    0\n",
       "88    0\n",
       "89    0\n",
       "Name: Gender, Length: 90, dtype: int64"
      ]
     },
     "execution_count": 80,
     "metadata": {},
     "output_type": "execute_result"
    }
   ],
   "source": [
    "dataset['Gender'] = dataset['Gender'].map({'Male': 0, 'Female':1})\n",
    "dataset['Gender']"
   ]
  },
  {
   "cell_type": "code",
   "execution_count": 81,
   "metadata": {},
   "outputs": [
    {
     "data": {
      "text/plain": [
       "8     41\n",
       "9     26\n",
       "6      6\n",
       "10     4\n",
       "7      4\n",
       "5      3\n",
       "3      2\n",
       "12     1\n",
       "11     1\n",
       "4      1\n",
       "2      1\n",
       "Name: Average Daily Working Hour, dtype: int64"
      ]
     },
     "execution_count": 81,
     "metadata": {},
     "output_type": "execute_result"
    }
   ],
   "source": [
    "dataset['Average Daily Working Hour'].value_counts()"
   ]
  },
  {
   "cell_type": "code",
   "execution_count": 82,
   "metadata": {},
   "outputs": [
    {
     "data": {
      "text/plain": [
       "Sometimes    30\n",
       "Rarely       25\n",
       "Never        19\n",
       "Often        13\n",
       "Always        3\n",
       "Name: Decision Contribution, dtype: int64"
      ]
     },
     "execution_count": 82,
     "metadata": {},
     "output_type": "execute_result"
    }
   ],
   "source": [
    "dataset['Decision Contribution'].value_counts()"
   ]
  },
  {
   "cell_type": "code",
   "execution_count": 83,
   "metadata": {},
   "outputs": [
    {
     "data": {
      "text/plain": [
       "0     4\n",
       "1     3\n",
       "2     2\n",
       "3     3\n",
       "4     2\n",
       "     ..\n",
       "85    2\n",
       "86    3\n",
       "87    4\n",
       "88    1\n",
       "89    1\n",
       "Name: Decision Contribution, Length: 90, dtype: int64"
      ]
     },
     "execution_count": 83,
     "metadata": {},
     "output_type": "execute_result"
    }
   ],
   "source": [
    "dataset['Decision Contribution'] = dataset['Decision Contribution'].map({'Never': 1, 'Rarely': 2, \n",
    "                                                                   'Sometimes':3, 'Often':4, \n",
    "                                                                   'Always':5})\n",
    "dataset['Decision Contribution']"
   ]
  },
  {
   "cell_type": "code",
   "execution_count": 84,
   "metadata": {},
   "outputs": [
    {
     "data": {
      "text/plain": [
       "Agree                44\n",
       "Strongly agree       28\n",
       "Neutral              15\n",
       "Strongly disagree     2\n",
       "Disagree              1\n",
       "Name: Spontaneous Participation, dtype: int64"
      ]
     },
     "execution_count": 84,
     "metadata": {},
     "output_type": "execute_result"
    }
   ],
   "source": [
    "dataset['Spontaneous Participation'].value_counts()"
   ]
  },
  {
   "cell_type": "code",
   "execution_count": 85,
   "metadata": {},
   "outputs": [
    {
     "data": {
      "text/plain": [
       "0     4\n",
       "1     4\n",
       "2     4\n",
       "3     5\n",
       "4     4\n",
       "     ..\n",
       "85    4\n",
       "86    4\n",
       "87    5\n",
       "88    3\n",
       "89    3\n",
       "Name: Spontaneous Participation, Length: 90, dtype: int64"
      ]
     },
     "execution_count": 85,
     "metadata": {},
     "output_type": "execute_result"
    }
   ],
   "source": [
    "dataset['Spontaneous Participation'] = dataset['Spontaneous Participation'].map({'Strongly disagree': 1, 'Disagree': 2, \n",
    "                                                                   'Neutral':3, 'Agree':4, \n",
    "                                                                   'Strongly agree':5})\n",
    "dataset['Spontaneous Participation']"
   ]
  },
  {
   "cell_type": "code",
   "execution_count": 86,
   "metadata": {},
   "outputs": [
    {
     "data": {
      "text/plain": [
       "Very Satisfied          31\n",
       "Moderately satisfied    31\n",
       "Slightly satisfied      15\n",
       "Completely Satisfied    11\n",
       "Not at all satisfied     2\n",
       "Name: Task Satisfaction, dtype: int64"
      ]
     },
     "execution_count": 86,
     "metadata": {},
     "output_type": "execute_result"
    }
   ],
   "source": [
    "dataset['Task Satisfaction'].value_counts()"
   ]
  },
  {
   "cell_type": "code",
   "execution_count": 87,
   "metadata": {},
   "outputs": [
    {
     "data": {
      "text/plain": [
       "0     3\n",
       "1     4\n",
       "2     2\n",
       "3     5\n",
       "4     4\n",
       "     ..\n",
       "85    4\n",
       "86    3\n",
       "87    4\n",
       "88    2\n",
       "89    2\n",
       "Name: Task Satisfaction, Length: 90, dtype: int64"
      ]
     },
     "execution_count": 87,
     "metadata": {},
     "output_type": "execute_result"
    }
   ],
   "source": [
    "dataset['Task Satisfaction'] = dataset['Task Satisfaction'].map({'Not at all satisfied': 1, 'Slightly satisfied': 2, \n",
    "                                                                   'Moderately satisfied':3, 'Very Satisfied':4, \n",
    "                                                                   'Completely Satisfied':5})\n",
    "dataset['Task Satisfaction']"
   ]
  },
  {
   "cell_type": "code",
   "execution_count": 88,
   "metadata": {},
   "outputs": [
    {
     "data": {
      "text/plain": [
       "Always       40\n",
       "Often        35\n",
       "Sometimes     9\n",
       "Rarely        6\n",
       "Name: Interaction Willingness, dtype: int64"
      ]
     },
     "execution_count": 88,
     "metadata": {},
     "output_type": "execute_result"
    }
   ],
   "source": [
    "dataset['Interaction Willingness'].value_counts()"
   ]
  },
  {
   "cell_type": "code",
   "execution_count": 89,
   "metadata": {},
   "outputs": [
    {
     "data": {
      "text/plain": [
       "0     2\n",
       "1     5\n",
       "2     3\n",
       "3     5\n",
       "4     4\n",
       "     ..\n",
       "85    5\n",
       "86    4\n",
       "87    5\n",
       "88    3\n",
       "89    2\n",
       "Name: Interaction Willingness, Length: 90, dtype: int64"
      ]
     },
     "execution_count": 89,
     "metadata": {},
     "output_type": "execute_result"
    }
   ],
   "source": [
    "dataset['Interaction Willingness'] = dataset['Interaction Willingness'].map({'Never': 1, 'Rarely': 2, \n",
    "                                                                   'Sometimes':3, 'Often':4, \n",
    "                                                                   'Always':5})\n",
    "dataset['Interaction Willingness']"
   ]
  },
  {
   "cell_type": "code",
   "execution_count": 90,
   "metadata": {},
   "outputs": [
    {
     "data": {
      "text/plain": [
       "Sometimes    30\n",
       "Often        20\n",
       "Always       20\n",
       "Rarely       18\n",
       "Never         2\n",
       "Name: External Interaction, dtype: int64"
      ]
     },
     "execution_count": 90,
     "metadata": {},
     "output_type": "execute_result"
    }
   ],
   "source": [
    "dataset['External Interaction'].value_counts()"
   ]
  },
  {
   "cell_type": "code",
   "execution_count": 91,
   "metadata": {},
   "outputs": [
    {
     "data": {
      "text/plain": [
       "0     5\n",
       "1     5\n",
       "2     2\n",
       "3     3\n",
       "4     5\n",
       "     ..\n",
       "85    5\n",
       "86    4\n",
       "87    3\n",
       "88    3\n",
       "89    3\n",
       "Name: External Interaction, Length: 90, dtype: int64"
      ]
     },
     "execution_count": 91,
     "metadata": {},
     "output_type": "execute_result"
    }
   ],
   "source": [
    "dataset['External Interaction'] = dataset['External Interaction'].map({'Never': 1, 'Rarely': 2, \n",
    "                                                                   'Sometimes':3, 'Often':4, \n",
    "                                                                   'Always':5})\n",
    "dataset['External Interaction']"
   ]
  },
  {
   "cell_type": "code",
   "execution_count": 92,
   "metadata": {},
   "outputs": [
    {
     "data": {
      "text/plain": [
       "Sometimes    28\n",
       "Rarely       25\n",
       "Often        21\n",
       "Always       10\n",
       "Never         6\n",
       "Name: Informal Interaction, dtype: int64"
      ]
     },
     "execution_count": 92,
     "metadata": {},
     "output_type": "execute_result"
    }
   ],
   "source": [
    "dataset['Informal Interaction'].value_counts()"
   ]
  },
  {
   "cell_type": "code",
   "execution_count": 93,
   "metadata": {},
   "outputs": [
    {
     "data": {
      "text/plain": [
       "0     1\n",
       "1     4\n",
       "2     3\n",
       "3     4\n",
       "4     5\n",
       "     ..\n",
       "85    5\n",
       "86    3\n",
       "87    3\n",
       "88    4\n",
       "89    3\n",
       "Name: Informal Interaction, Length: 90, dtype: int64"
      ]
     },
     "execution_count": 93,
     "metadata": {},
     "output_type": "execute_result"
    }
   ],
   "source": [
    "dataset['Informal Interaction'] = dataset['Informal Interaction'].map({'Never': 1, 'Rarely': 2, \n",
    "                                                                   'Sometimes':3, 'Often':4, \n",
    "                                                                   'Always':5})\n",
    "dataset['Informal Interaction']"
   ]
  },
  {
   "cell_type": "code",
   "execution_count": 94,
   "metadata": {},
   "outputs": [
    {
     "data": {
      "text/plain": [
       "Sometimes    34\n",
       "Rarely       24\n",
       "Often        15\n",
       "Never        11\n",
       "Always        6\n",
       "Name: Personal Information Sharing, dtype: int64"
      ]
     },
     "execution_count": 94,
     "metadata": {},
     "output_type": "execute_result"
    }
   ],
   "source": [
    "dataset['Personal Information Sharing'].value_counts()"
   ]
  },
  {
   "cell_type": "code",
   "execution_count": 95,
   "metadata": {},
   "outputs": [
    {
     "data": {
      "text/plain": [
       "0     3\n",
       "1     5\n",
       "2     1\n",
       "3     4\n",
       "4     5\n",
       "     ..\n",
       "85    3\n",
       "86    2\n",
       "87    3\n",
       "88    2\n",
       "89    2\n",
       "Name: Personal Information Sharing, Length: 90, dtype: int64"
      ]
     },
     "execution_count": 95,
     "metadata": {},
     "output_type": "execute_result"
    }
   ],
   "source": [
    "dataset['Personal Information Sharing'] = dataset['Personal Information Sharing'].map({'Never': 1, 'Rarely': 2, \n",
    "                                                                   'Sometimes':3, 'Often':4, \n",
    "                                                                   'Always':5})\n",
    "dataset['Personal Information Sharing']"
   ]
  },
  {
   "cell_type": "code",
   "execution_count": 96,
   "metadata": {},
   "outputs": [
    {
     "data": {
      "text/plain": [
       "Never        36\n",
       "Rarely       29\n",
       "Sometimes    20\n",
       "Always        3\n",
       "Often         2\n",
       "Name: Effect On Personal Life, dtype: int64"
      ]
     },
     "execution_count": 96,
     "metadata": {},
     "output_type": "execute_result"
    }
   ],
   "source": [
    "dataset['Effect On Personal Life'].value_counts()"
   ]
  },
  {
   "cell_type": "code",
   "execution_count": 97,
   "metadata": {},
   "outputs": [
    {
     "data": {
      "text/plain": [
       "0     4\n",
       "1     2\n",
       "2     1\n",
       "3     2\n",
       "4     4\n",
       "     ..\n",
       "85    2\n",
       "86    1\n",
       "87    2\n",
       "88    1\n",
       "89    3\n",
       "Name: Effect On Personal Life, Length: 90, dtype: int64"
      ]
     },
     "execution_count": 97,
     "metadata": {},
     "output_type": "execute_result"
    }
   ],
   "source": [
    "dataset['Effect On Personal Life'] = dataset['Effect On Personal Life'].map({'Never': 1, 'Rarely': 2, \n",
    "                                                                   'Sometimes':3, 'Often':4, \n",
    "                                                                   'Always':5})\n",
    "dataset['Effect On Personal Life']"
   ]
  },
  {
   "cell_type": "code",
   "execution_count": 98,
   "metadata": {},
   "outputs": [
    {
     "data": {
      "text/plain": [
       "Agree                51\n",
       "Strongly agree       23\n",
       "Neutral              12\n",
       "Strongly disagree     2\n",
       "Disagree              2\n",
       "Name: Appreciation From Teammates, dtype: int64"
      ]
     },
     "execution_count": 98,
     "metadata": {},
     "output_type": "execute_result"
    }
   ],
   "source": [
    "dataset['Appreciation From Teammates'].value_counts()"
   ]
  },
  {
   "cell_type": "code",
   "execution_count": 99,
   "metadata": {},
   "outputs": [
    {
     "data": {
      "text/plain": [
       "0     3\n",
       "1     4\n",
       "2     4\n",
       "3     5\n",
       "4     4\n",
       "     ..\n",
       "85    4\n",
       "86    4\n",
       "87    5\n",
       "88    2\n",
       "89    3\n",
       "Name: Appreciation From Teammates, Length: 90, dtype: int64"
      ]
     },
     "execution_count": 99,
     "metadata": {},
     "output_type": "execute_result"
    }
   ],
   "source": [
    "dataset['Appreciation From Teammates'] = dataset['Appreciation From Teammates'].map({'Strongly disagree': 1, 'Disagree': 2, \n",
    "                                                                   'Neutral':3, 'Agree':4, \n",
    "                                                                   'Strongly agree':5})\n",
    "dataset['Appreciation From Teammates']"
   ]
  },
  {
   "cell_type": "code",
   "execution_count": 100,
   "metadata": {},
   "outputs": [
    {
     "data": {
      "text/plain": [
       "Rarely       37\n",
       "Sometimes    35\n",
       "Often         8\n",
       "Never         8\n",
       "Always        2\n",
       "Name: Deadline Crossing Frequency, dtype: int64"
      ]
     },
     "execution_count": 100,
     "metadata": {},
     "output_type": "execute_result"
    }
   ],
   "source": [
    "dataset['Deadline Crossing Frequency'].value_counts()"
   ]
  },
  {
   "cell_type": "code",
   "execution_count": 101,
   "metadata": {},
   "outputs": [
    {
     "data": {
      "text/plain": [
       "0     2\n",
       "1     2\n",
       "2     2\n",
       "3     2\n",
       "4     3\n",
       "     ..\n",
       "85    3\n",
       "86    2\n",
       "87    4\n",
       "88    2\n",
       "89    3\n",
       "Name: Deadline Crossing Frequency, Length: 90, dtype: int64"
      ]
     },
     "execution_count": 101,
     "metadata": {},
     "output_type": "execute_result"
    }
   ],
   "source": [
    "dataset['Deadline Crossing Frequency'] = dataset['Deadline Crossing Frequency'].map({'Never': 1, 'Rarely': 2, \n",
    "                                                                   'Sometimes':3, 'Often':4, \n",
    "                                                                   'Always':5})\n",
    "dataset['Deadline Crossing Frequency']"
   ]
  },
  {
   "cell_type": "code",
   "execution_count": 102,
   "metadata": {},
   "outputs": [
    {
     "data": {
      "text/plain": [
       "Sometimes    40\n",
       "Often        23\n",
       "Rarely       17\n",
       "Always        7\n",
       "Never         3\n",
       "Name: Overtime Frequency, dtype: int64"
      ]
     },
     "execution_count": 102,
     "metadata": {},
     "output_type": "execute_result"
    }
   ],
   "source": [
    "dataset['Overtime Frequency'].value_counts()"
   ]
  },
  {
   "cell_type": "code",
   "execution_count": 103,
   "metadata": {},
   "outputs": [
    {
     "data": {
      "text/plain": [
       "0     4\n",
       "1     4\n",
       "2     4\n",
       "3     3\n",
       "4     3\n",
       "     ..\n",
       "85    3\n",
       "86    3\n",
       "87    4\n",
       "88    5\n",
       "89    4\n",
       "Name: Overtime Frequency, Length: 90, dtype: int64"
      ]
     },
     "execution_count": 103,
     "metadata": {},
     "output_type": "execute_result"
    }
   ],
   "source": [
    "dataset['Overtime Frequency'] = dataset['Overtime Frequency'].map({'Never': 1, 'Rarely': 2, \n",
    "                                                                   'Sometimes':3, 'Often':4, \n",
    "                                                                   'Always':5})\n",
    "dataset['Overtime Frequency']"
   ]
  },
  {
   "cell_type": "code",
   "execution_count": 104,
   "metadata": {},
   "outputs": [
    {
     "data": {
      "text/plain": [
       "Sufficiently Flexible    25\n",
       "Moderately Flexible      23\n",
       "Quite Flexible           20\n",
       "Not Flexible             11\n",
       "Very Flexible            11\n",
       "Name: Office Time Flexibility, dtype: int64"
      ]
     },
     "execution_count": 104,
     "metadata": {},
     "output_type": "execute_result"
    }
   ],
   "source": [
    "dataset['Office Time Flexibility'].value_counts()"
   ]
  },
  {
   "cell_type": "code",
   "execution_count": 105,
   "metadata": {},
   "outputs": [
    {
     "data": {
      "text/plain": [
       "0     1\n",
       "1     3\n",
       "2     2\n",
       "3     4\n",
       "4     4\n",
       "     ..\n",
       "85    2\n",
       "86    4\n",
       "87    4\n",
       "88    2\n",
       "89    2\n",
       "Name: Office Time Flexibility, Length: 90, dtype: int64"
      ]
     },
     "execution_count": 105,
     "metadata": {},
     "output_type": "execute_result"
    }
   ],
   "source": [
    "dataset['Office Time Flexibility'] = dataset['Office Time Flexibility'].map({'Not Flexible': 1, 'Quite Flexible': 2, \n",
    "                                                                   'Moderately Flexible':3, 'Sufficiently Flexible':4, \n",
    "                                                                   'Very Flexible':5})\n",
    "dataset['Office Time Flexibility']"
   ]
  },
  {
   "cell_type": "code",
   "execution_count": 106,
   "metadata": {},
   "outputs": [
    {
     "data": {
      "text/plain": [
       "Neutral              32\n",
       "Agree                31\n",
       "Strongly Agree       14\n",
       "Disagree              9\n",
       "Strongly Disagree     4\n",
       "Name: Cheerfulness, dtype: int64"
      ]
     },
     "execution_count": 106,
     "metadata": {},
     "output_type": "execute_result"
    }
   ],
   "source": [
    "dataset['Cheerfulness'].value_counts()"
   ]
  },
  {
   "cell_type": "code",
   "execution_count": 107,
   "metadata": {},
   "outputs": [
    {
     "data": {
      "text/plain": [
       "0     3\n",
       "1     4\n",
       "2     2\n",
       "3     5\n",
       "4     4\n",
       "     ..\n",
       "85    4\n",
       "86    4\n",
       "87    3\n",
       "88    3\n",
       "89    1\n",
       "Name: Cheerfulness, Length: 90, dtype: int64"
      ]
     },
     "execution_count": 107,
     "metadata": {},
     "output_type": "execute_result"
    }
   ],
   "source": [
    "dataset['Cheerfulness'] = dataset['Cheerfulness'].map({'Strongly Disagree': 1, 'Disagree': 2, \n",
    "                                                                   'Neutral':3, 'Agree':4, \n",
    "                                                                   'Strongly Agree':5})\n",
    "dataset['Cheerfulness']"
   ]
  },
  {
   "cell_type": "code",
   "execution_count": 108,
   "metadata": {},
   "outputs": [
    {
     "data": {
      "text/plain": [
       "Fair         28\n",
       "Poor         20\n",
       "Good         18\n",
       "Excellent    16\n",
       "Very poor     8\n",
       "Name: Recreational Facilities, dtype: int64"
      ]
     },
     "execution_count": 108,
     "metadata": {},
     "output_type": "execute_result"
    }
   ],
   "source": [
    "dataset['Recreational Facilities'].value_counts()"
   ]
  },
  {
   "cell_type": "code",
   "execution_count": 109,
   "metadata": {},
   "outputs": [
    {
     "data": {
      "text/plain": [
       "0     3\n",
       "1     4\n",
       "2     3\n",
       "3     4\n",
       "4     5\n",
       "     ..\n",
       "85    3\n",
       "86    3\n",
       "87    2\n",
       "88    3\n",
       "89    2\n",
       "Name: Recreational Facilities, Length: 90, dtype: int64"
      ]
     },
     "execution_count": 109,
     "metadata": {},
     "output_type": "execute_result"
    }
   ],
   "source": [
    "dataset['Recreational Facilities'] = dataset['Recreational Facilities'].map({'Very poor': 1, 'Poor': 2, \n",
    "                                                                   'Fair':3, 'Good':4, \n",
    "                                                                   'Excellent':5})\n",
    "dataset['Recreational Facilities']"
   ]
  },
  {
   "cell_type": "code",
   "execution_count": 110,
   "metadata": {},
   "outputs": [
    {
     "data": {
      "text/plain": [
       "Sometimes    31\n",
       "Often        26\n",
       "Rarely       21\n",
       "Always        9\n",
       "Never         3\n",
       "Name: Hobby Time, dtype: int64"
      ]
     },
     "execution_count": 110,
     "metadata": {},
     "output_type": "execute_result"
    }
   ],
   "source": [
    "dataset['Hobby Time'].value_counts()"
   ]
  },
  {
   "cell_type": "code",
   "execution_count": 111,
   "metadata": {},
   "outputs": [
    {
     "data": {
      "text/plain": [
       "0     2\n",
       "1     2\n",
       "2     2\n",
       "3     4\n",
       "4     4\n",
       "     ..\n",
       "85    3\n",
       "86    2\n",
       "87    3\n",
       "88    3\n",
       "89    2\n",
       "Name: Hobby Time, Length: 90, dtype: int64"
      ]
     },
     "execution_count": 111,
     "metadata": {},
     "output_type": "execute_result"
    }
   ],
   "source": [
    "dataset['Hobby Time'] = dataset['Hobby Time'].map({'Never': 1, 'Rarely': 2, \n",
    "                                                                   'Sometimes':3, 'Often':4, \n",
    "                                                                   'Always':5})\n",
    "dataset['Hobby Time']"
   ]
  },
  {
   "cell_type": "code",
   "execution_count": 112,
   "metadata": {},
   "outputs": [
    {
     "data": {
      "text/plain": [
       "Rarely       32\n",
       "Sometimes    21\n",
       "Always       14\n",
       "Often        12\n",
       "Never        11\n",
       "Name: Outdoor Activities Frequency, dtype: int64"
      ]
     },
     "execution_count": 112,
     "metadata": {},
     "output_type": "execute_result"
    }
   ],
   "source": [
    "dataset['Outdoor Activities Frequency'].value_counts()"
   ]
  },
  {
   "cell_type": "code",
   "execution_count": 113,
   "metadata": {},
   "outputs": [
    {
     "data": {
      "text/plain": [
       "0     2\n",
       "1     3\n",
       "2     1\n",
       "3     2\n",
       "4     5\n",
       "     ..\n",
       "85    5\n",
       "86    2\n",
       "87    3\n",
       "88    3\n",
       "89    3\n",
       "Name: Outdoor Activities Frequency, Length: 90, dtype: int64"
      ]
     },
     "execution_count": 113,
     "metadata": {},
     "output_type": "execute_result"
    }
   ],
   "source": [
    "dataset['Outdoor Activities Frequency'] = dataset['Outdoor Activities Frequency'].map({'Never': 1, 'Rarely': 2, \n",
    "                                                                   'Sometimes':3, 'Often':4, \n",
    "                                                                   'Always':5})\n",
    "dataset['Outdoor Activities Frequency']"
   ]
  },
  {
   "cell_type": "code",
   "execution_count": 114,
   "metadata": {},
   "outputs": [
    {
     "data": {
      "text/plain": [
       "Often        29\n",
       "Sometimes    25\n",
       "Always       19\n",
       "Rarely       15\n",
       "Never         2\n",
       "Name: Family Time, dtype: int64"
      ]
     },
     "execution_count": 114,
     "metadata": {},
     "output_type": "execute_result"
    }
   ],
   "source": [
    "dataset['Family Time'].value_counts()"
   ]
  },
  {
   "cell_type": "code",
   "execution_count": 115,
   "metadata": {
    "collapsed": true
   },
   "outputs": [
    {
     "data": {
      "text/plain": [
       "0     2\n",
       "1     3\n",
       "2     2\n",
       "3     3\n",
       "4     5\n",
       "     ..\n",
       "85    4\n",
       "86    4\n",
       "87    4\n",
       "88    3\n",
       "89    3\n",
       "Name: Family Time, Length: 90, dtype: int64"
      ]
     },
     "execution_count": 115,
     "metadata": {},
     "output_type": "execute_result"
    }
   ],
   "source": [
    "dataset['Family Time'] = dataset['Family Time'].map({'Never': 1, 'Rarely': 2, \n",
    "                                                                   'Sometimes':3, 'Often':4, \n",
    "                                                                   'Always':5})\n",
    "dataset['Family Time']"
   ]
  },
  {
   "cell_type": "code",
   "execution_count": 116,
   "metadata": {},
   "outputs": [],
   "source": [
    "dataset.to_excel(\"EncodedData.xlsx\")"
   ]
  },
  {
   "cell_type": "code",
   "execution_count": null,
   "metadata": {},
   "outputs": [],
   "source": []
  }
 ],
 "metadata": {
  "kernelspec": {
   "display_name": "Python 3",
   "language": "python",
   "name": "python3"
  },
  "language_info": {
   "codemirror_mode": {
    "name": "ipython",
    "version": 3
   },
   "file_extension": ".py",
   "mimetype": "text/x-python",
   "name": "python",
   "nbconvert_exporter": "python",
   "pygments_lexer": "ipython3",
   "version": "3.8.5"
  }
 },
 "nbformat": 4,
 "nbformat_minor": 4
}
