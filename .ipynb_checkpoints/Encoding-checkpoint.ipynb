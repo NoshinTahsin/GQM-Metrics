{
 "cells": [
  {
   "cell_type": "code",
   "execution_count": 33,
   "metadata": {},
   "outputs": [
    {
     "name": "stdout",
     "output_type": "stream",
     "text": [
      "(90, 22)\n"
     ]
    },
    {
     "data": {
      "text/plain": [
       "['Designation ',\n",
       " 'Age ',\n",
       " 'Gender',\n",
       " 'Average Daily Working Hour',\n",
       " 'Decision Contribution',\n",
       " 'Spontaneous Participation',\n",
       " 'Task Satisfaction',\n",
       " 'Interaction Willingness',\n",
       " 'External Interaction',\n",
       " 'Informal Interaction',\n",
       " 'Personal Information Sharing',\n",
       " 'Effect On Personal Life',\n",
       " 'Appreciation From Teammates',\n",
       " 'Deadline Crossing Frequency',\n",
       " 'Overtime Frequency',\n",
       " 'Office Time Flexibility',\n",
       " 'Cheerfulness',\n",
       " 'Recreational Facilities',\n",
       " 'Hobby Time',\n",
       " 'Outdoor Activities Frequency',\n",
       " 'Family Time']"
      ]
     },
     "execution_count": 33,
     "metadata": {},
     "output_type": "execute_result"
    }
   ],
   "source": [
    "import pandas as pd\n",
    "dataset = pd.read_excel(\"GQMCleanedData.xlsx\")\n",
    "print(dataset.shape)\n",
    "dataset.drop(columns=['Unnamed: 0'],inplace=True)\n",
    "list(dataset.columns.values)"
   ]
  },
  {
   "cell_type": "code",
   "execution_count": 34,
   "metadata": {},
   "outputs": [
    {
     "data": {
      "text/plain": [
       "Intern                                           15\n",
       "Software Engineer                                13\n",
       "Student                                          11\n",
       "Associate Software Engineer                       6\n",
       "intern                                            4\n",
       "Senior Software Engineer                          3\n",
       "Junior Software Engineer                          3\n",
       "Software engineer                                 3\n",
       "student                                           2\n",
       "Lecturer                                          2\n",
       "Intern                                            2\n",
       "Junior software engineer                          1\n",
       "Software Engineering                              1\n",
       "Software engineer                                 1\n",
       "Studemt                                           1\n",
       "Full Stack Engineer (Senior)                      1\n",
       "Junior full stack software developer              1\n",
       "Senior Software Engineer                          1\n",
       "Currently Unemployed                              1\n",
       "Assistant Engineer                                1\n",
       "Full Stack Developer                              1\n",
       "Associate Game Developer                          1\n",
       "Data Analyst                                      1\n",
       "Tech Lead                                         1\n",
       "Software Engineer I                               1\n",
       "student                                           1\n",
       "Unemployed                                        1\n",
       "bsse0921@iit.du.ac.bd                             1\n",
       "Jr. Software Engineer                             1\n",
       "Jr software engineer                              1\n",
       "Head of Engineering                               1\n",
       "Junior Software Engineer                          1\n",
       "Associate Software Quality Assurance Engineer     1\n",
       "Software developer                                1\n",
       "Admin executive                                   1\n",
       "Student                                           1\n",
       "Trainee Assistant Officer                         1\n",
       "Name: Designation , dtype: int64"
      ]
     },
     "execution_count": 34,
     "metadata": {},
     "output_type": "execute_result"
    }
   ],
   "source": [
    "dataset['Designation '].value_counts()"
   ]
  },
  {
   "cell_type": "code",
   "execution_count": 35,
   "metadata": {},
   "outputs": [
    {
     "data": {
      "text/plain": [
       "24     25\n",
       "23     25\n",
       "22     11\n",
       "26      7\n",
       "25      5\n",
       "28      4\n",
       "29      2\n",
       "27      2\n",
       "21      2\n",
       "31      1\n",
       "30      1\n",
       "24+     1\n",
       "43      1\n",
       "33      1\n",
       "32      1\n",
       "Name: Age , dtype: int64"
      ]
     },
     "execution_count": 35,
     "metadata": {},
     "output_type": "execute_result"
    }
   ],
   "source": [
    "dataset['Age '].value_counts()"
   ]
  },
  {
   "cell_type": "code",
   "execution_count": 36,
   "metadata": {},
   "outputs": [
    {
     "data": {
      "text/plain": [
       "Male      72\n",
       "Female    18\n",
       "Name: Gender, dtype: int64"
      ]
     },
     "execution_count": 36,
     "metadata": {},
     "output_type": "execute_result"
    }
   ],
   "source": [
    "dataset['Gender'].value_counts()"
   ]
  },
  {
   "cell_type": "code",
   "execution_count": 37,
   "metadata": {},
   "outputs": [
    {
     "data": {
      "text/plain": [
       "0     0\n",
       "1     1\n",
       "2     0\n",
       "3     1\n",
       "4     0\n",
       "     ..\n",
       "85    0\n",
       "86    0\n",
       "87    0\n",
       "88    0\n",
       "89    0\n",
       "Name: Gender, Length: 90, dtype: int64"
      ]
     },
     "execution_count": 37,
     "metadata": {},
     "output_type": "execute_result"
    }
   ],
   "source": [
    "dataset['Gender'] = dataset['Gender'].map({'Male': 0, 'Female':1})\n",
    "dataset['Gender']"
   ]
  },
  {
   "cell_type": "code",
   "execution_count": 38,
   "metadata": {},
   "outputs": [
    {
     "data": {
      "text/plain": [
       "8     41\n",
       "9     26\n",
       "6      6\n",
       "10     4\n",
       "7      4\n",
       "5      3\n",
       "3      2\n",
       "12     1\n",
       "11     1\n",
       "4      1\n",
       "2      1\n",
       "Name: Average Daily Working Hour, dtype: int64"
      ]
     },
     "execution_count": 38,
     "metadata": {},
     "output_type": "execute_result"
    }
   ],
   "source": [
    "dataset['Average Daily Working Hour'].value_counts()"
   ]
  },
  {
   "cell_type": "code",
   "execution_count": 39,
   "metadata": {},
   "outputs": [
    {
     "data": {
      "text/plain": [
       "Sometimes    30\n",
       "Rarely       25\n",
       "Never        19\n",
       "Often        13\n",
       "Always        3\n",
       "Name: Decision Contribution, dtype: int64"
      ]
     },
     "execution_count": 39,
     "metadata": {},
     "output_type": "execute_result"
    }
   ],
   "source": [
    "dataset['Decision Contribution'].value_counts()"
   ]
  },
  {
   "cell_type": "code",
   "execution_count": 40,
   "metadata": {},
   "outputs": [
    {
     "data": {
      "text/plain": [
       "0     4\n",
       "1     3\n",
       "2     2\n",
       "3     3\n",
       "4     2\n",
       "     ..\n",
       "85    2\n",
       "86    3\n",
       "87    4\n",
       "88    1\n",
       "89    1\n",
       "Name: Decision Contribution, Length: 90, dtype: int64"
      ]
     },
     "execution_count": 40,
     "metadata": {},
     "output_type": "execute_result"
    }
   ],
   "source": [
    "dataset['Decision Contribution'] = dataset['Decision Contribution'].map({'Never': 1, 'Rarely': 2, \n",
    "                                                                   'Sometimes':3, 'Often':4, \n",
    "                                                                   'Always':5})\n",
    "dataset['Decision Contribution']"
   ]
  },
  {
   "cell_type": "code",
   "execution_count": 41,
   "metadata": {},
   "outputs": [
    {
     "data": {
      "text/plain": [
       "Agree                44\n",
       "Strongly agree       28\n",
       "Neutral              15\n",
       "Strongly disagree     2\n",
       "Disagree              1\n",
       "Name: Spontaneous Participation, dtype: int64"
      ]
     },
     "execution_count": 41,
     "metadata": {},
     "output_type": "execute_result"
    }
   ],
   "source": [
    "dataset['Spontaneous Participation'].value_counts()"
   ]
  },
  {
   "cell_type": "code",
   "execution_count": 42,
   "metadata": {},
   "outputs": [
    {
     "data": {
      "text/plain": [
       "0     4\n",
       "1     4\n",
       "2     4\n",
       "3     5\n",
       "4     4\n",
       "     ..\n",
       "85    4\n",
       "86    4\n",
       "87    5\n",
       "88    3\n",
       "89    3\n",
       "Name: Spontaneous Participation, Length: 90, dtype: int64"
      ]
     },
     "execution_count": 42,
     "metadata": {},
     "output_type": "execute_result"
    }
   ],
   "source": [
    "dataset['Spontaneous Participation'] = dataset['Spontaneous Participation'].map({'Strongly disagree': 1, 'Disagree': 2, \n",
    "                                                                   'Neutral':3, 'Agree':4, \n",
    "                                                                   'Strongly agree':5})\n",
    "dataset['Spontaneous Participation']"
   ]
  },
  {
   "cell_type": "code",
   "execution_count": 43,
   "metadata": {},
   "outputs": [
    {
     "data": {
      "text/plain": [
       "Very Satisfied          31\n",
       "Moderately satisfied    31\n",
       "Slightly satisfied      15\n",
       "Completely Satisfied    11\n",
       "Not at all satisfied     2\n",
       "Name: Task Satisfaction, dtype: int64"
      ]
     },
     "execution_count": 43,
     "metadata": {},
     "output_type": "execute_result"
    }
   ],
   "source": [
    "dataset['Task Satisfaction'].value_counts()"
   ]
  },
  {
   "cell_type": "code",
   "execution_count": 44,
   "metadata": {},
   "outputs": [
    {
     "data": {
      "text/plain": [
       "0     3\n",
       "1     4\n",
       "2     2\n",
       "3     5\n",
       "4     4\n",
       "     ..\n",
       "85    4\n",
       "86    3\n",
       "87    4\n",
       "88    2\n",
       "89    2\n",
       "Name: Task Satisfaction, Length: 90, dtype: int64"
      ]
     },
     "execution_count": 44,
     "metadata": {},
     "output_type": "execute_result"
    }
   ],
   "source": [
    "dataset['Task Satisfaction'] = dataset['Task Satisfaction'].map({'Not at all satisfied': 1, 'Slightly satisfied': 2, \n",
    "                                                                   'Moderately satisfied':3, 'Very Satisfied':4, \n",
    "                                                                   'Completely Satisfied':5})\n",
    "dataset['Task Satisfaction']"
   ]
  },
  {
   "cell_type": "code",
   "execution_count": 45,
   "metadata": {},
   "outputs": [
    {
     "data": {
      "text/plain": [
       "Always       40\n",
       "Often        35\n",
       "Sometimes     9\n",
       "Rarely        6\n",
       "Name: Interaction Willingness, dtype: int64"
      ]
     },
     "execution_count": 45,
     "metadata": {},
     "output_type": "execute_result"
    }
   ],
   "source": [
    "dataset['Interaction Willingness'].value_counts()"
   ]
  },
  {
   "cell_type": "code",
   "execution_count": 46,
   "metadata": {},
   "outputs": [
    {
     "data": {
      "text/plain": [
       "0     2\n",
       "1     5\n",
       "2     3\n",
       "3     5\n",
       "4     4\n",
       "     ..\n",
       "85    5\n",
       "86    4\n",
       "87    5\n",
       "88    3\n",
       "89    2\n",
       "Name: Interaction Willingness, Length: 90, dtype: int64"
      ]
     },
     "execution_count": 46,
     "metadata": {},
     "output_type": "execute_result"
    }
   ],
   "source": [
    "dataset['Interaction Willingness'] = dataset['Interaction Willingness'].map({'Never': 1, 'Rarely': 2, \n",
    "                                                                   'Sometimes':3, 'Often':4, \n",
    "                                                                   'Always':5})\n",
    "dataset['Interaction Willingness']"
   ]
  },
  {
   "cell_type": "code",
   "execution_count": 47,
   "metadata": {},
   "outputs": [
    {
     "data": {
      "text/plain": [
       "Sometimes    30\n",
       "Often        20\n",
       "Always       20\n",
       "Rarely       18\n",
       "Never         2\n",
       "Name: External Interaction, dtype: int64"
      ]
     },
     "execution_count": 47,
     "metadata": {},
     "output_type": "execute_result"
    }
   ],
   "source": [
    "dataset['External Interaction'].value_counts()"
   ]
  },
  {
   "cell_type": "code",
   "execution_count": 48,
   "metadata": {},
   "outputs": [
    {
     "data": {
      "text/plain": [
       "0     5\n",
       "1     5\n",
       "2     2\n",
       "3     3\n",
       "4     5\n",
       "     ..\n",
       "85    5\n",
       "86    4\n",
       "87    3\n",
       "88    3\n",
       "89    3\n",
       "Name: External Interaction, Length: 90, dtype: int64"
      ]
     },
     "execution_count": 48,
     "metadata": {},
     "output_type": "execute_result"
    }
   ],
   "source": [
    "dataset['External Interaction'] = dataset['External Interaction'].map({'Never': 1, 'Rarely': 2, \n",
    "                                                                   'Sometimes':3, 'Often':4, \n",
    "                                                                   'Always':5})\n",
    "dataset['External Interaction']"
   ]
  },
  {
   "cell_type": "code",
   "execution_count": 49,
   "metadata": {},
   "outputs": [
    {
     "data": {
      "text/plain": [
       "Sometimes    28\n",
       "Rarely       25\n",
       "Often        21\n",
       "Always       10\n",
       "Never         6\n",
       "Name: Informal Interaction, dtype: int64"
      ]
     },
     "execution_count": 49,
     "metadata": {},
     "output_type": "execute_result"
    }
   ],
   "source": [
    "dataset['Informal Interaction'].value_counts()"
   ]
  },
  {
   "cell_type": "code",
   "execution_count": 50,
   "metadata": {},
   "outputs": [
    {
     "data": {
      "text/plain": [
       "0     1\n",
       "1     4\n",
       "2     3\n",
       "3     4\n",
       "4     5\n",
       "     ..\n",
       "85    5\n",
       "86    3\n",
       "87    3\n",
       "88    4\n",
       "89    3\n",
       "Name: Informal Interaction, Length: 90, dtype: int64"
      ]
     },
     "execution_count": 50,
     "metadata": {},
     "output_type": "execute_result"
    }
   ],
   "source": [
    "dataset['Informal Interaction'] = dataset['Informal Interaction'].map({'Never': 1, 'Rarely': 2, \n",
    "                                                                   'Sometimes':3, 'Often':4, \n",
    "                                                                   'Always':5})\n",
    "dataset['Informal Interaction']"
   ]
  },
  {
   "cell_type": "code",
   "execution_count": 51,
   "metadata": {},
   "outputs": [
    {
     "data": {
      "text/plain": [
       "Sometimes    34\n",
       "Rarely       24\n",
       "Often        15\n",
       "Never        11\n",
       "Always        6\n",
       "Name: Personal Information Sharing, dtype: int64"
      ]
     },
     "execution_count": 51,
     "metadata": {},
     "output_type": "execute_result"
    }
   ],
   "source": [
    "dataset['Personal Information Sharing'].value_counts()"
   ]
  },
  {
   "cell_type": "code",
   "execution_count": null,
   "metadata": {},
   "outputs": [],
   "source": [
    "dataset['Personal Information Sharing'] = dataset['Personal Information Sharing'].map({'Never': 1, 'Rarely': 2, \n",
    "                                                                   'Sometimes':3, 'Often':4, \n",
    "                                                                   'Always':5})\n",
    "dataset['Personal Information Sharing']"
   ]
  }
 ],
 "metadata": {
  "kernelspec": {
   "display_name": "Python 3",
   "language": "python",
   "name": "python3"
  },
  "language_info": {
   "codemirror_mode": {
    "name": "ipython",
    "version": 3
   },
   "file_extension": ".py",
   "mimetype": "text/x-python",
   "name": "python",
   "nbconvert_exporter": "python",
   "pygments_lexer": "ipython3",
   "version": "3.8.5"
  }
 },
 "nbformat": 4,
 "nbformat_minor": 4
}
