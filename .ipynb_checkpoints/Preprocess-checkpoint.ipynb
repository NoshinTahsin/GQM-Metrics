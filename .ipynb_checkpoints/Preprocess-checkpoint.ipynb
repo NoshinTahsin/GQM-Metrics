{
 "cells": [
  {
   "cell_type": "code",
   "execution_count": 1,
   "metadata": {},
   "outputs": [
    {
     "name": "stdout",
     "output_type": "stream",
     "text": [
      "(90, 23)\n"
     ]
    }
   ],
   "source": [
    "import pandas as pd\n",
    "dataset = pd.read_excel(\"MetricsDataset.xlsx\")\n",
    "print(dataset.shape)"
   ]
  },
  {
   "cell_type": "code",
   "execution_count": 2,
   "metadata": {},
   "outputs": [],
   "source": [
    "dataset.rename(columns = {'Average Daily Working Hour':'Avg_Daily_Work_Hour', \n",
    "                          'How frequently do you contribute in any kind of managerial decision?:':'Decision Contribution',\n",
    "                          'You spontaneously participate in team works.':'Spontaneous Participation',\n",
    "                          'How much are you satisfied with your task accomplishments?':'Task Satisfaction',\n",
    "                          'How often do you willingly interact with your colleagues for project related work?':'Interaction Willingness',\n",
    "                          'How often do you interact with other team members of the office ?(other than your own teammates)':'External Interaction',\n",
    "                          'How frequently do you interact with your colleagues on a working day outside your work needs?':'Informal Interaction',\n",
    "                          'You and your colleagues ___ share your personal information with each other.':'Personal Info Sharing',\n",
    "                          'If you and your colleague(s) share your personal information (unrelated to work) with each other, does this impact your personal life? If you never share your personal information with each other, select the option Never for this question.':'Effect On Personal Life',\n",
    "                          'Your teammates appreciate your work  and motivate you.':'Appreciation From Teammates',\n",
    "                          'How often do you cross your deadline?':'Deadline Crossing Frequency',\n",
    "                          'How often do you work overtime to reach your deadline?':'Overtime Frequency',\n",
    "                          'Your office time is ___':'Office Time Flexibility',\n",
    "                          'You feel cheerful while working.':'Cheerfulness',\n",
    "                          'The quality of recreational facilities in your workplace is ___.':'Recreational Facilities',\n",
    "                          'You get enough time for yourself to do things you love (watch movies, read books etc.) after your working hours.':'Hobby Time',\n",
    "                          'How frequently do you participate in outdoor activities besides your office work (cricket, football, badminton, tours, picnic, hangout)':'Outdoor Activities Frequency',\n",
    "                          'You get enough time to spend with your family.':'Family Time'}, inplace = True) \n"
   ]
  },
  {
   "cell_type": "code",
   "execution_count": null,
   "metadata": {},
   "outputs": [],
   "source": [
    "dataset.drop(columns=['Timestamp','Email Address', inplace=True)"
   ]
  }
 ],
 "metadata": {
  "kernelspec": {
   "display_name": "Python 3",
   "language": "python",
   "name": "python3"
  },
  "language_info": {
   "codemirror_mode": {
    "name": "ipython",
    "version": 3
   },
   "file_extension": ".py",
   "mimetype": "text/x-python",
   "name": "python",
   "nbconvert_exporter": "python",
   "pygments_lexer": "ipython3",
   "version": "3.8.5"
  }
 },
 "nbformat": 4,
 "nbformat_minor": 4
}
